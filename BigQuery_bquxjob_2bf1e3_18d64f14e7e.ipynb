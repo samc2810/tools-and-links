{
  "cells": [
    {
      "cell_type": "markdown",
      "metadata": {
        "id": "view-in-github",
        "colab_type": "text"
      },
      "source": [
        "<a href=\"https://colab.research.google.com/github/samc2810/tools-and-links/blob/master/BigQuery_bquxjob_2bf1e3_18d64f14e7e.ipynb\" target=\"_parent\"><img src=\"https://colab.research.google.com/assets/colab-badge.svg\" alt=\"Open In Colab\"/></a>"
      ]
    },
    {
      "cell_type": "code",
      "execution_count": 1,
      "metadata": {
        "id": "w6MmeBUBJ-9E"
      },
      "outputs": [],
      "source": [
        "# @title Setup\n",
        "from google.colab import auth\n",
        "from google.cloud import bigquery\n",
        "from google.colab import data_table\n",
        "\n",
        "project = 'hagel-shop-germany' # Project ID inserted based on the query results selected to explore\n",
        "location = 'europe-west3' # Location inserted based on the query results selected to explore\n",
        "client = bigquery.Client(project=project, location=location)\n",
        "data_table.enable_dataframe_formatter()\n",
        "auth.authenticate_user()"
      ]
    },
    {
      "cell_type": "code",
      "source": [
        "sql = \"\"\"\n",
        "select count(distinct email_hash) as cnt\n",
        "from  `hagel-shop-germany.shopdata.cptmp_salesdata_test`\n",
        "where extract(year FROM order_date)=2021;\n",
        "\"\"\"\n",
        "\n",
        "res = client.query(sql).to_dataframe()\n",
        "print(res)"
      ],
      "metadata": {
        "colab": {
          "base_uri": "https://localhost:8080/"
        },
        "id": "Syd7FYNh-H3G",
        "outputId": "05e1a782-297f-4f76-c4d9-635d53a37dcf"
      },
      "execution_count": 5,
      "outputs": [
        {
          "output_type": "stream",
          "name": "stdout",
          "text": [
            "     cnt\n",
            "0  16966\n"
          ]
        }
      ]
    },
    {
      "cell_type": "code",
      "source": [
        "year2report = 2021\n",
        "\n",
        "queries = {\n",
        "    \"customers_unique\" : \"\"\"\n",
        "    select count(distinct email_hash)\n",
        "from  `hagel-shop-germany.shopdata.cptmp_salesdata_test`\n",
        "where extract(year FROM order_date)=year2report;\n",
        "\"\"\",\n",
        "    \"purchase_value_total\": \"\"\" \"\"\",\n",
        "    \"customers_new\": \"\"\" \"\"\",\n",
        "    \"purchase_value_new\": \"\"\" \"\"\",\n",
        "    \"customers_returning\": \"\"\" \"\"\"\n",
        "}\n",
        "\n",
        "queries = {\n",
        "    \"customers_unique\" : \"\"\"\n",
        "    select count(distinct email_hash)\n",
        "from  `shopdata.cptmp_salesdata_test`\n",
        "where extract(year FROM order_date)=\"\"\"+str(year2report),\n",
        "    \"purchase_value_total\": \"\"\" select sum(row_total_incl_tax)\n",
        "from  `shopdata.cptmp_salesdata_test`\n",
        "where extract(year FROM order_date)= \"\"\"+str(year2report),\n",
        "}\n",
        "results = {}\n",
        "for key, q in queries.items():\n",
        "  results[key] = None\n",
        "  res_df = client.query(q).to_dataframe()\n",
        "  val = res_df.iloc[0,0]\n",
        "  results[key] = val\n",
        "\n",
        "\n",
        "print(results)\n",
        "\n"
      ],
      "metadata": {
        "colab": {
          "base_uri": "https://localhost:8080/"
        },
        "id": "ove5AV9lAGkx",
        "outputId": "5e895d71-6f08-483d-bde6-c3b674062664"
      },
      "execution_count": 12,
      "outputs": [
        {
          "output_type": "stream",
          "name": "stdout",
          "text": [
            "{'customers_unique': 16966, 'purchase_value_total': 1145856.2599999704}\n"
          ]
        }
      ]
    },
    {
      "cell_type": "code",
      "source": [
        "import json\n",
        "import numpy as np\n",
        "import datetime\n",
        "\n",
        "def myconverter(obj):\n",
        "        if isinstance(obj, np.integer):\n",
        "            return int(obj)\n",
        "        elif isinstance(obj, np.floating):\n",
        "            return float(obj)\n",
        "        elif isinstance(obj, np.ndarray):\n",
        "            return obj.tolist()\n",
        "        elif isinstance(obj, datetime.datetime):\n",
        "            return obj.__str__()\n",
        "results_parsed = {}\n",
        "for col, val in results.items():\n",
        "  results_parsed[col] = myconverter(val)\n",
        "\n",
        "print(results_parsed)"
      ],
      "metadata": {
        "colab": {
          "base_uri": "https://localhost:8080/"
        },
        "id": "77vY38PJPnlZ",
        "outputId": "812d451d-c68c-48f0-e0b9-625319a93aab"
      },
      "execution_count": 24,
      "outputs": [
        {
          "output_type": "stream",
          "name": "stdout",
          "text": [
            "{'customers_unique': 16966, 'purchase_value_total': 1145856.2599999704, 'year': None, 'is_active': None}\n"
          ]
        }
      ]
    },
    {
      "cell_type": "code",
      "source": [
        "### Insert\n",
        "dataset_insert = 'shopdata'\n",
        "table_insert = 'aggregated_report'\n",
        "\n",
        "results_parsed[\"year\"] = year2report\n",
        "results_parsed[\"is_active\"] = True\n",
        "insert_row_set = [results_parsed]\n",
        "print(results_parsed, insert_row_set)\n",
        "table_ref = client.get_table('{}.{}'.format(dataset_insert, table_insert))\n",
        "print(table_ref)\n",
        "#client.insert_rows(table_ref, [{\"year\": 2019, \"is_active\":False, \"customers_unique\": 2000}])\n",
        "client.insert_rows(table_ref, insert_row_set)"
      ],
      "metadata": {
        "colab": {
          "base_uri": "https://localhost:8080/"
        },
        "id": "FKluCOPLIP0O",
        "outputId": "2f54c86c-2c76-4b4f-acf7-aede4b6f6a90"
      },
      "execution_count": 25,
      "outputs": [
        {
          "output_type": "stream",
          "name": "stdout",
          "text": [
            "{'customers_unique': 16966, 'purchase_value_total': 1145856.2599999704, 'year': 2021, 'is_active': True} [{'customers_unique': 16966, 'purchase_value_total': 1145856.2599999704, 'year': 2021, 'is_active': True}]\n",
            "hagel-shop-germany.shopdata.aggregated_report\n"
          ]
        },
        {
          "output_type": "execute_result",
          "data": {
            "text/plain": [
              "[]"
            ]
          },
          "metadata": {},
          "execution_count": 25
        }
      ]
    },
    {
      "cell_type": "code",
      "source": [],
      "metadata": {
        "id": "ar-s6xEVPlH8"
      },
      "execution_count": null,
      "outputs": []
    },
    {
      "cell_type": "markdown",
      "metadata": {
        "id": "pj42soltXW_H"
      },
      "source": [
        "## Reference SQL syntax from the original job\n",
        "Use the ```jobs.query```\n",
        "[method](https://cloud.google.com/bigquery/docs/reference/rest/v2/jobs/query) to\n",
        "return the SQL syntax from the job. This can be copied from the output cell\n",
        "below to edit the query now or in the future. Alternatively, you can use\n",
        "[this link](https://console.cloud.google.com/bigquery?j=hagel-shop-germany:europe-west3:bquxjob_2bf1e3_18d64f14e7e)\n",
        "back to BigQuery to edit the query within the BigQuery user interface."
      ]
    },
    {
      "cell_type": "code",
      "execution_count": null,
      "metadata": {
        "id": "KxSqPfAeXW_K"
      },
      "outputs": [],
      "source": [
        "# Running this code will display the query used to generate your previous job\n",
        "\n",
        "job = client.get_job('bquxjob_2bf1e3_18d64f14e7e') # Job ID inserted based on the query results selected to explore\n",
        "print(job.query)"
      ]
    },
    {
      "cell_type": "markdown",
      "metadata": {
        "id": "eY-wNOGO11ON"
      },
      "source": [
        "# Result set loaded from BigQuery job as a DataFrame\n",
        "Query results are referenced from the Job ID ran from BigQuery and the query\n",
        "does not need to be re-run to explore results. The ```to_dataframe```\n",
        "[method](https://googleapis.dev/python/bigquery/latest/generated/google.cloud.bigquery.job.QueryJob.html#google.cloud.bigquery.job.QueryJob.to_dataframe)\n",
        "downloads the results to a Pandas DataFrame by using the BigQuery Storage API.\n",
        "\n",
        "To edit query syntax, you can do so from the BigQuery SQL editor or in the\n",
        "```Optional:``` sections below."
      ]
    },
    {
      "cell_type": "code",
      "execution_count": null,
      "metadata": {
        "id": "bIw82qhuHWy0"
      },
      "outputs": [],
      "source": [
        "# Running this code will read results from your previous job\n",
        "\n",
        "job = client.get_job('bquxjob_2bf1e3_18d64f14e7e') # Job ID inserted based on the query results selected to explore\n",
        "results = job.to_dataframe()\n",
        "results"
      ]
    },
    {
      "cell_type": "markdown",
      "metadata": {
        "id": "84Ub57pbB6EN"
      },
      "source": [
        "## Show descriptive statistics using describe()\n",
        "Use the ```pandas DataFrame.describe()```\n",
        "[method](https://pandas.pydata.org/docs/reference/api/pandas.DataFrame.describe.html)\n",
        "to generate descriptive statistics. Descriptive statistics include those that\n",
        "summarize the central tendency, dispersion and shape of a dataset’s\n",
        "distribution, excluding ```NaN``` values. You may also use other Python methods\n",
        "to interact with your data."
      ]
    },
    {
      "cell_type": "code",
      "execution_count": null,
      "metadata": {
        "id": "fsAsHoWDZMpv"
      },
      "outputs": [],
      "source": [
        "results.describe()"
      ]
    }
  ],
  "metadata": {
    "colab": {
      "cell_execution_strategy": "setup",
      "name": "BigQuery bquxjob_2bf1e3_18d64f14e7e",
      "provenance": [],
      "include_colab_link": true
    },
    "kernelspec": {
      "display_name": "Python 3",
      "name": "python3"
    },
    "language_info": {
      "name": "python"
    }
  },
  "nbformat": 4,
  "nbformat_minor": 0
}